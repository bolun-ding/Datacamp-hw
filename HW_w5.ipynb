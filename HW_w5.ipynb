{
 "cells": [
  {
   "cell_type": "markdown",
   "id": "fbabd084",
   "metadata": {},
   "source": [
    "## Practice Questions\n",
    "1. How do you assess the statistical significance of an insight?\n",
    "2. What is the Central Limit Theorem? Explain it. Why is it important?\n",
    "3. What is the statistical power?\n",
    "4. How do you control for biases?\n",
    "5. What are confounding variables?\n",
    "6. What is A/B testing?\n",
    "7. What are confidence intervals?\n"
   ]
  },
  {
   "cell_type": "markdown",
   "id": "583cef5e",
   "metadata": {},
   "source": [
    "How do you assess the statistical significance of an insight?\n",
    "\n",
    "1. Formulate Hypotheses\n",
    "Null Hypothesis (H0): \n",
    "Alternative Hypothesis (H1):\n",
    "2. Choose an Appropriate Test\n",
    "Select a statistical test based on:\n",
    "Data Type: Categorical vs. continuous.\n",
    "Number of Groups: Comparing two groups might involve a t-test or Mann-Whitney U test, while comparing multiple groups might involve ANOVA or Kruskal-Wallis test.\n",
    "3. Determine Significance Level (α)\n",
    "Commonly set at 0.05. \n",
    "4. Calculate the Test Statistic and P-value\n",
    "Test Statistic: A function of the sample data that is used to decide whether to reject the null hypothesis (e.g., t-value in t-tests, F-value in ANOVA).\n",
    "P-value: The probability of observing a result as extreme as, or more extreme than, the observed data, under the assumption that the null hypothesis is true.\n",
    "5. Interpret the Results\n",
    "If P ≤ α: Reject the null hypothesis. The results are statistically significant, implying that the observed effect/difference is unlikely due to chance.\n",
    "If P > α: Fail to reject the null hypothesis. \n",
    "6. Reflect on Assumptions and Real-World Context\n",
    "7. Check for Potential Biases and Errors\n",
    "Sampling Bias: Ensure the sample is representative of the population.\n",
    "Measurement Error: Check the reliability and accuracy of data collection.\n",
    "Multiple Comparisons: Be aware of increased false positive rates when conducting multiple tests.\n",
    "8. Conclusion"
   ]
  },
  {
   "cell_type": "markdown",
   "id": "5b38451b",
   "metadata": {},
   "source": [
    "What is the Central Limit Theorem? Explain it. Why is it important?\n",
    "\n",
    "For a sufficiently large sample size: The sampling distribution of the sample mean will be approximately normally distributed (regardless of the shape of the original population distribution), provided the sample size is sufficiently large (often a size of 30 or more is considered adequate).\n",
    "The standard deviation of the sampling distribution (also known as the standard error) will be equal to the population standard deviation divided by the square root of the sample size (sigma/sqrt(n)). This implies that the standard error decreases as the sample size increases.\n",
    "\n",
    "Why it is important?\n",
    "It allows us to use normal probability calculations to answer questions about sample means from any population distribution, as long as the sample size is large enough, even if the population distribution is not normal."
   ]
  },
  {
   "cell_type": "markdown",
   "id": "7f53c51d",
   "metadata": {},
   "source": [
    "What is the statistical power?\n",
    "\n",
    "Statistical power is a concept used in hypothesis testing to measure the ability of a test to correctly detect an effect when that effect actually exists in the population. Specifically, it refers to the probability that the test will reject the null hypothesis (H0) when the alternative hypothesis (H1) is true. "
   ]
  },
  {
   "cell_type": "markdown",
   "id": "97349c6d",
   "metadata": {},
   "source": [
    "How do you control for biases?\n",
    "\n",
    "In Study Design: Randomization; Control groups; Blinding\n",
    "Sampling: Random Sampling; Stratified Sampling; Adequate Sample size\n",
    "Awareness of Common Biases: Confirmation Bias; Publication Bias; Reporting Bias"
   ]
  },
  {
   "cell_type": "markdown",
   "id": "50185a2e",
   "metadata": {},
   "source": [
    "What are confounding variables?\n",
    "\n",
    "Confounding variables are factors other than the independent variable of interest that might affect the dependent variable in a study, potentially leading to erroneous conclusions about the relationship between the independent and dependent variables. A confounder is an external influence that changes the effect of a dependent and an independent variable on each other."
   ]
  },
  {
   "cell_type": "markdown",
   "id": "499c6f7c",
   "metadata": {},
   "source": [
    "What is A/B testing?\n",
    "\n",
    "A/B testing, also known as split testing, is an experimental approach primarily used to compare two versions of a webpage, app, or other product offerings to determine which one performs better. Essentially, it's a way to test changes to a product against the current design (the \"control\") and determine which one produces better results.\n",
    "\n"
   ]
  },
  {
   "cell_type": "markdown",
   "id": "13a3d976",
   "metadata": {},
   "source": [
    "What are confidence intervals?\n",
    "\n",
    "Confidence intervals (CIs) are a range of values, derived from statistical calculations, that are believed to contain the true value of an unknown population parameter (like the mean or proportion) with a certain level of confidence. In simpler terms, a confidence interval gives an estimated range of values which is likely to include an unknown population parameter, the estimated range being calculated from a given set of sample data."
   ]
  },
  {
   "cell_type": "code",
   "execution_count": null,
   "id": "74297c7a",
   "metadata": {},
   "outputs": [],
   "source": []
  }
 ],
 "metadata": {
  "kernelspec": {
   "display_name": "Python 3",
   "language": "python",
   "name": "python3"
  },
  "language_info": {
   "codemirror_mode": {
    "name": "ipython",
    "version": 3
   },
   "file_extension": ".py",
   "mimetype": "text/x-python",
   "name": "python",
   "nbconvert_exporter": "python",
   "pygments_lexer": "ipython3",
   "version": "3.8.8"
  }
 },
 "nbformat": 4,
 "nbformat_minor": 5
}
