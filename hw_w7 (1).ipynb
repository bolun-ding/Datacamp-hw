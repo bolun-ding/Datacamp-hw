{
 "cells": [
  {
   "cell_type": "code",
   "execution_count": null,
   "id": "6c776618",
   "metadata": {},
   "outputs": [],
   "source": [
    "import pandas as pd\n",
    "import numpy as np\n",
    "import matplotlib.pyplot as plt\n",
    "from sklearn.metrics import accuracy_score, precision_score, recall_score\n",
    "from sklearn.linear_model import LogisticRegression\n",
    "\n",
    "# Define a range of thresholds\n",
    "thresholds = np.arange(0.1, 1, 0.1)\n",
    "\n",
    "# Initialize lists to store the metrics\n",
    "accuracy_scores = []\n",
    "precision_scores = []\n",
    "recall_scores = []\n",
    "\n",
    "# Predicted probabilities for the 'household' class\n",
    "predicted_probabilities = logreg.predict_proba(X)[:, 1]\n",
    "\n",
    "for threshold in thresholds:\n",
    "    # Apply threshold to predicted probabilities to get new predictions\n",
    "    custom_predictions = (predicted_probabilities >= threshold).astype(int)\n",
    "    \n",
    "    # Calculate metrics for each threshold\n",
    "    accuracy_scores.append(accuracy_score(y, custom_predictions))\n",
    "    precision_scores.append(precision_score(y, custom_predictions))\n",
    "    recall_scores.append(recall_score(y, custom_predictions))\n",
    "\n",
    "# Combine results in a DataFrame for easy visualization\n",
    "threshold_metrics = pd.DataFrame({\n",
    "    'Threshold': thresholds,\n",
    "    'Accuracy': accuracy_scores,\n",
    "    'Precision': precision_scores,\n",
    "    'Recall': recall_scores\n",
    "})\n",
    "\n",
    "threshold_metrics\n",
    "\n",
    "from sklearn.metrics import roc_curve, roc_auc_score\n",
    "import matplotlib.pyplot as plt\n",
    "\n",
    "# Calculate the TPR and FPR at various thresholds\n",
    "fpr, tpr, thresholds_roc = roc_curve(y_test, predicted_probabilities_synthetic)\n",
    "\n",
    "# Calculate the AUC (Area under the ROC Curve)\n",
    "auc_score = roc_auc_score(y_test, predicted_probabilities_synthetic)\n",
    "\n",
    "# Plot the ROC Curve\n",
    "plt.figure(figsize=(8, 6))\n",
    "plt.plot(fpr, tpr, color='blue', label=f'ROC curve (area = {auc_score:.2f})')\n",
    "plt.plot([0, 1], [0, 1], color='darkgrey', linestyle='--')\n",
    "plt.xlabel('False Positive Rate')\n",
    "plt.ylabel('True Positive Rate')\n",
    "plt.title('Receiver Operating Characteristic (ROC) Curve')\n",
    "plt.legend(loc=\"lower right\")\n",
    "plt.grid(True)\n",
    "plt.show()"
   ]
  }
 ],
 "metadata": {
  "kernelspec": {
   "display_name": "Python 3",
   "language": "python",
   "name": "python3"
  },
  "language_info": {
   "codemirror_mode": {
    "name": "ipython",
    "version": 3
   },
   "file_extension": ".py",
   "mimetype": "text/x-python",
   "name": "python",
   "nbconvert_exporter": "python",
   "pygments_lexer": "ipython3",
   "version": "3.8.8"
  }
 },
 "nbformat": 4,
 "nbformat_minor": 5
}
